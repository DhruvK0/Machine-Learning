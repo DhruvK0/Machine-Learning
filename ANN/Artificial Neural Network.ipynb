{
 "cells": [
  {
   "cell_type": "code",
   "execution_count": 1,
   "id": "528f8cea",
   "metadata": {},
   "outputs": [],
   "source": [
    "import numpy as np\n",
    "import math\n",
    "import matplotlib.pyplot as plt"
   ]
  },
  {
   "cell_type": "code",
   "execution_count": 2,
   "id": "9e048213",
   "metadata": {},
   "outputs": [],
   "source": [
    "X = np.array(([3,5], [5,1], [10,2]), dtype=float)\n",
    "y = np.array(([75],[82],[92]), dtype=float)"
   ]
  },
  {
   "cell_type": "code",
   "execution_count": 3,
   "id": "8588acbd",
   "metadata": {},
   "outputs": [
    {
     "data": {
      "text/plain": [
       "array([[ 3.,  5.],\n",
       "       [ 5.,  1.],\n",
       "       [10.,  2.]])"
      ]
     },
     "execution_count": 3,
     "metadata": {},
     "output_type": "execute_result"
    }
   ],
   "source": [
    "X"
   ]
  },
  {
   "cell_type": "code",
   "execution_count": 49,
   "id": "8417a784",
   "metadata": {},
   "outputs": [
    {
     "data": {
      "text/plain": [
       "array([[75.],\n",
       "       [82.],\n",
       "       [92.]])"
      ]
     },
     "execution_count": 49,
     "metadata": {},
     "output_type": "execute_result"
    }
   ],
   "source": [
    "y"
   ]
  },
  {
   "cell_type": "code",
   "execution_count": 8,
   "id": "2eabb726",
   "metadata": {},
   "outputs": [],
   "source": [
    "#scale data from 0 to 1\n",
    "X = X/np.amax(X, axis=0)\n",
    "y = y/100 #Max score of a test is 100"
   ]
  },
  {
   "cell_type": "code",
   "execution_count": 7,
   "id": "6c29a223",
   "metadata": {},
   "outputs": [
    {
     "data": {
      "text/plain": [
       "array([[ 3.,  5.],\n",
       "       [ 5.,  1.],\n",
       "       [10.,  2.]])"
      ]
     },
     "execution_count": 7,
     "metadata": {},
     "output_type": "execute_result"
    }
   ],
   "source": [
    "X"
   ]
  },
  {
   "cell_type": "code",
   "execution_count": 6,
   "id": "5e975eeb",
   "metadata": {},
   "outputs": [],
   "source": [
    "def sigmoid(x):\n",
    "    return 1/(1 + np.exp(-x))"
   ]
  },
  {
   "cell_type": "code",
   "execution_count": 9,
   "id": "5caaf482",
   "metadata": {},
   "outputs": [
    {
     "data": {
      "text/plain": [
       "array([[0.85677623, 0.91337015, 0.55638235],\n",
       "       [0.66152292, 0.77536824, 0.75371162],\n",
       "       [0.58012574, 0.46584014, 0.68448139]])"
      ]
     },
     "execution_count": 9,
     "metadata": {},
     "output_type": "execute_result"
    }
   ],
   "source": [
    "sigmoid(np.random.randn(3,3))"
   ]
  },
  {
   "cell_type": "code",
   "execution_count": 10,
   "id": "cf92485f",
   "metadata": {},
   "outputs": [
    {
     "data": {
      "image/png": "[encoded data removed]",
      "text/plain": [
       "<Figure size 432x288 with 1 Axes>"
      ]
     },
     "metadata": {
      "needs_background": "light"
     },
     "output_type": "display_data"
    }
   ],
   "source": [
    "#graphing the sigmoid function\n",
    "testinput = np.arange(-6, 6, 0.01)\n",
    "plt.plot(testinput, sigmoid(testinput), linewidth=2)\n",
    "plt.grid(1)\n",
    "plt.show()"
   ]
  },
  {
   "cell_type": "code",
   "execution_count": 77,
   "id": "e2d7bd14",
   "metadata": {},
   "outputs": [],
   "source": [
    "#set node sizes for all 3 layers\n",
    "inputLayerSize = 2\n",
    "hiddenLayerSize = 3\n",
    "outputLayerSize = 1\n",
    "\n",
    "#define random weights for first and second layers\n",
    "W1 = np.random.randn(inputLayerSize, hiddenLayerSize)\n",
    "W2 = np.random.randn(hiddenLayerSize, outputLayerSize)\n",
    "\n",
    "def forwardprop(X):\n",
    "    z2 = np.matmul(X, W1)\n",
    "    a2 = sigmoid(z2)\n",
    "    z3 = np.matmul(a2, W2)\n",
    "    yHat = sigmoid(z3)\n",
    "    return yHat"
   ]
  },
  {
   "cell_type": "code",
   "execution_count": 78,
   "id": "3666d07e",
   "metadata": {},
   "outputs": [
    {
     "data": {
      "text/plain": [
       "array([[0.4838215 ],\n",
       "       [0.38681288],\n",
       "       [0.32257371]])"
      ]
     },
     "execution_count": 78,
     "metadata": {},
     "output_type": "execute_result"
    }
   ],
   "source": [
    "#run forward propagation for the first prediction\n",
    "forwardprop(X)"
   ]
  },
  {
   "cell_type": "code",
   "execution_count": 74,
   "id": "4cc650d1",
   "metadata": {},
   "outputs": [
    {
     "data": {
      "text/plain": [
       "array([[0.75],\n",
       "       [0.82],\n",
       "       [0.92]])"
      ]
     },
     "execution_count": 74,
     "metadata": {},
     "output_type": "execute_result"
    }
   ],
   "source": [
    "y"
   ]
  },
  {
   "cell_type": "code",
   "execution_count": 79,
   "id": "0a3c66b3",
   "metadata": {},
   "outputs": [],
   "source": [
    "#Gradient Descent and Cost Function\n",
    "#create Sigmoid prime function\n",
    "\n",
    "def sigmoidPrime(z):\n",
    "    #find gradient of Sigmoid\n",
    "    return np.exp(-z)/((1 + np.exp(-z))**2)"
   ]
  },
  {
   "cell_type": "code",
   "execution_count": 83,
   "id": "23bea3bd",
   "metadata": {},
   "outputs": [
    {
     "data": {
      "image/png": "[encoded data removed]",
      "text/plain": [
       "<Figure size 432x288 with 1 Axes>"
      ]
     },
     "metadata": {
      "needs_background": "light"
     },
     "output_type": "display_data"
    }
   ],
   "source": [
    "plt.plot(testinput,sigmoidPrime(testinput), linewidth=2)\n",
    "plt.plot(testinput, sigmoid(testinput), linewidth=2)\n",
    "plt.grid(1)\n",
    "plt.show()"
   ]
  },
  {
   "cell_type": "code",
   "execution_count": 12,
   "id": "81789899",
   "metadata": {},
   "outputs": [
    {
     "name": "stdout",
     "output_type": "stream",
     "text": [
      "[[0.3 1. ]\n",
      " [0.5 0.2]\n",
      " [1.  0.4]]\n"
     ]
    }
   ],
   "source": [
    "print(X)"
   ]
  },
  {
   "cell_type": "code",
   "execution_count": null,
   "id": "db754929",
   "metadata": {},
   "outputs": [],
   "source": []
  }
 ],
 "metadata": {
  "kernelspec": {
   "display_name": "Python 3",
   "language": "python",
   "name": "python3"
  },
  "language_info": {
   "codemirror_mode": {
    "name": "ipython",
    "version": 3
   },
   "file_extension": ".py",
   "mimetype": "text/x-python",
   "name": "python",
   "nbconvert_exporter": "python",
   "pygments_lexer": "ipython3",
   "version": "3.8.0"
  }
 },
 "nbformat": 4,
 "nbformat_minor": 5
}
